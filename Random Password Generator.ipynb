{
 "cells": [
  {
   "cell_type": "code",
   "execution_count": 11,
   "metadata": {},
   "outputs": [],
   "source": [
    "# Import string and random\n",
    "import string\n",
    "import random\n",
    "\n",
    "# List of Characters to used in password\n",
    "Password_characters = list(string.ascii_letters + string.digits + \"!@#$%^&*()\")\n",
    "\n",
    "# Define a function to generate password\n",
    "def generate_random_password(number):\n",
    "\n",
    "    random.shuffle(Password_characters)\n",
    "\n",
    "    password = []\n",
    "    for num in range(number):\n",
    "        password.append(random.choice(Password_characters))\n",
    "    \n",
    "    random.shuffle(password)\n",
    "\n",
    "    password = \"\".join(password)\n",
    "\n",
    "    print(password)"
   ]
  },
  {
   "cell_type": "code",
   "execution_count": 12,
   "metadata": {},
   "outputs": [
    {
     "name": "stdout",
     "output_type": "stream",
     "text": [
      "9VSpyVd(mk\n"
     ]
    }
   ],
   "source": [
    "# Taking User Input\n",
    "Ask =  input(\"Do you want to generate a new password? (Yes/No): \")\n",
    "\n",
    "if Ask == \"Yes\":\n",
    "    password_length = int(input(\"How many characters do you want in your password? \"))\n",
    "    generate_random_password(password_length)\n",
    "elif Ask == \"No\":\n",
    "    print(\"No password required. Good Bye!\")\n",
    "else:\n",
    "    print(\"Input is invalid\")"
   ]
  }
 ],
 "metadata": {
  "kernelspec": {
   "display_name": "Python 3",
   "language": "python",
   "name": "python3"
  },
  "language_info": {
   "codemirror_mode": {
    "name": "ipython",
    "version": 3
   },
   "file_extension": ".py",
   "mimetype": "text/x-python",
   "name": "python",
   "nbconvert_exporter": "python",
   "pygments_lexer": "ipython3",
   "version": "3.8.8"
  }
 },
 "nbformat": 4,
 "nbformat_minor": 2
}
